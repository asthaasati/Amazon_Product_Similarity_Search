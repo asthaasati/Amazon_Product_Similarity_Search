{
 "cells": [
  {
   "cell_type": "code",
   "execution_count": 2,
   "id": "ebebbc50",
   "metadata": {},
   "outputs": [],
   "source": [
    "import pandas as pd\n",
    "import numpy as np\n",
    "import matplotlib.pyplot as plt\n"
   ]
  },
  {
   "cell_type": "code",
   "execution_count": 3,
   "id": "6c3e96a7",
   "metadata": {},
   "outputs": [],
   "source": [
    "df = pd.read_csv(\"amazon-products.csv\")\n",
    "df = df[df['title'].notnull() & df['description'].notnull()].copy()\n",
    "df[\"text\"] = df[\"title\"] + \". \" + df[\"description\"]\n"
   ]
  },
  {
   "cell_type": "code",
   "execution_count": 4,
   "id": "c362def0",
   "metadata": {},
   "outputs": [
    {
     "name": "stdout",
     "output_type": "stream",
     "text": [
      "(998, 56)\n"
     ]
    }
   ],
   "source": [
    "print(df.shape)\n",
    "\n"
   ]
  },
  {
   "cell_type": "code",
   "execution_count": 5,
   "id": "cbfa4478",
   "metadata": {},
   "outputs": [
    {
     "name": "stdout",
     "output_type": "stream",
     "text": [
      "Index(['timestamp', 'title', 'seller_name', 'brand', 'description',\n",
      "       'initial_price', 'final_price', 'currency', 'availability',\n",
      "       'reviews_count', 'categories', 'asin', 'buybox_seller',\n",
      "       'number_of_sellers', 'root_bs_rank', 'answered_questions', 'domain',\n",
      "       'images_count', 'url', 'video_count', 'image_url', 'item_weight',\n",
      "       'rating', 'product_dimensions', 'seller_id', 'date_first_available',\n",
      "       'discount', 'model_number', 'manufacturer', 'department',\n",
      "       'plus_content', 'upc', 'video', 'top_review', 'variations', 'delivery',\n",
      "       'features', 'format', 'buybox_prices', 'parent_asin', 'input_asin',\n",
      "       'ingredients', 'origin_url', 'bought_past_month', 'is_available',\n",
      "       'root_bs_category', 'bs_category', 'bs_rank', 'badge',\n",
      "       'subcategory_rank', 'amazon_choice', 'images', 'product_details',\n",
      "       'prices_breakdown', 'country_of_origin', 'text'],\n",
      "      dtype='object')\n"
     ]
    }
   ],
   "source": [
    "print(df.columns)\n"
   ]
  },
  {
   "cell_type": "code",
   "execution_count": 6,
   "id": "939fa1b0",
   "metadata": {},
   "outputs": [
    {
     "name": "stdout",
     "output_type": "stream",
     "text": [
      "                 timestamp                                              title  \\\n",
      "0  2023-08-08 00:00:00.000              Saucony Men's Kinvara 13 Running Shoe   \n",
      "1  2023-08-09 00:00:00.000  Kishigo Premium Black Series Heavy Duty Unisex...   \n",
      "2  2024-02-04 00:00:00.000  TWINSLUXES Solar Post Cap Lights Outdoor - Wat...   \n",
      "3  2024-06-09 00:00:00.000  Accutire MS-4021B Digital Tire Pressure Gauge ...   \n",
      "4  2024-01-16 00:00:00.000  SAURA LIFE SCIENCE Adivasi Ayurvedic Neelgiri ...   \n",
      "\n",
      "             seller_name               brand  \\\n",
      "0           Orv███tor███             Saucony   \n",
      "1           Ama███.co███             Kishigo   \n",
      "2           Twi███uxe███          TWINSLUXES   \n",
      "3  Cit███ran███Dir██████            Accutire   \n",
      "4     PRA███ EN███PRI███  SAURA LIFE SCIENCE   \n",
      "\n",
      "                                         description          initial_price  \\\n",
      "0  When it comes to lightweight speed, nothing cr...                    NaN   \n",
      "1  The Kishigo Premium Black Series Heavy Duty Ve...                    NaN   \n",
      "2  Solar Post Cap Lights Waterproof LED Fence Pos...                \"49.99\"   \n",
      "3  About this item Heavy duty construction and ru...  1.795000000000000e+01   \n",
      "4  This extraordinary fusion is designed to nouri...                 \"1299\"   \n",
      "\n",
      "             final_price currency availability  reviews_count  ...  \\\n",
      "0                \"57.79\"      USD     In Stock            702  ...   \n",
      "1                 \"28.5\"      USD     In Stock            916  ...   \n",
      "2                \"33.99\"      USD     In Stock           3178  ...   \n",
      "3  1.795000000000000e+01      USD     In Stock           8034  ...   \n",
      "4                  \"799\"      INR     In stock              5  ...   \n",
      "\n",
      "         bs_category bs_rank badge  \\\n",
      "0                NaN     NaN   NaN   \n",
      "1                NaN     NaN   NaN   \n",
      "2                NaN     NaN   NaN   \n",
      "3  Tire Repair Tools    50.0   NaN   \n",
      "4                NaN     NaN   NaN   \n",
      "\n",
      "                                    subcategory_rank  amazon_choice  images  \\\n",
      "0                                                NaN            NaN     NaN   \n",
      "1                                                NaN            NaN     NaN   \n",
      "2                                                NaN            NaN     NaN   \n",
      "3  [{\"subcategory_name\":\"Automotive\",\"subcategory...          False     NaN   \n",
      "4                                                NaN            NaN     NaN   \n",
      "\n",
      "  product_details  prices_breakdown country_of_origin  \\\n",
      "0             NaN               NaN               NaN   \n",
      "1             NaN               NaN               NaN   \n",
      "2             NaN               NaN               NaN   \n",
      "3             NaN               NaN               NaN   \n",
      "4             NaN               NaN               NaN   \n",
      "\n",
      "                                                text  \n",
      "0  Saucony Men's Kinvara 13 Running Shoe. When it...  \n",
      "1  Kishigo Premium Black Series Heavy Duty Unisex...  \n",
      "2  TWINSLUXES Solar Post Cap Lights Outdoor - Wat...  \n",
      "3  Accutire MS-4021B Digital Tire Pressure Gauge ...  \n",
      "4  SAURA LIFE SCIENCE Adivasi Ayurvedic Neelgiri ...  \n",
      "\n",
      "[5 rows x 56 columns]\n"
     ]
    }
   ],
   "source": [
    "print(df.head())"
   ]
  },
  {
   "cell_type": "code",
   "execution_count": 7,
   "id": "f67b3fa1",
   "metadata": {},
   "outputs": [
    {
     "name": "stdout",
     "output_type": "stream",
     "text": [
      "                                           title  text_length\n",
      "8           Ridgid 62990 T-201 5\" Straight Auger           89\n",
      "63                Skechers Men's Crossbar Oxford           56\n",
      "77                 adidas Women's Sooraj Sneaker           66\n",
      "78   Blowfish Malibu Women's Play Canvas Sneaker           91\n",
      "159    Vans Unisex Old Skool Classic Skate Shoes           86\n"
     ]
    }
   ],
   "source": [
    "df[\"text_length\"] = df[\"text\"].apply(len)\n",
    "short_products = df[df[\"text_length\"] < 100]\n",
    "print(short_products[[\"title\", \"text_length\"]].head())"
   ]
  },
  {
   "cell_type": "code",
   "execution_count": 8,
   "id": "23a9cf3c",
   "metadata": {},
   "outputs": [
    {
     "name": "stdout",
     "output_type": "stream",
     "text": [
      "title\n",
      "for        564\n",
      "with       297\n",
      "-          283\n",
      "and        234\n",
      "&          161\n",
      "|           92\n",
      "x           77\n",
      "women's     77\n",
      "black       72\n",
      "2           69\n",
      "Name: count, dtype: int64\n"
     ]
    }
   ],
   "source": [
    "word_series = df[\"title\"].str.lower().str.split().explode()\n",
    "top_words = word_series.value_counts().head(10)\n",
    "print(top_words)"
   ]
  },
  {
   "cell_type": "code",
   "execution_count": 9,
   "id": "b14ff971",
   "metadata": {},
   "outputs": [
    {
     "name": "stdout",
     "output_type": "stream",
     "text": [
      "first_word\n",
      "Skechers     11\n",
      "Amazon        9\n",
      "Avery         7\n",
      "The           7\n",
      "New           6\n",
      "adidas        6\n",
      "Champion      5\n",
      "VEVOR         5\n",
      "ASICS         4\n",
      "Ambesonne     4\n",
      "dtype: int64\n"
     ]
    }
   ],
   "source": [
    "df[\"first_word\"] = df[\"title\"].str.split().str[0]\n",
    "grouped = df.groupby(\"first_word\").size().sort_values(ascending=False)\n",
    "print(grouped.head(10))\n"
   ]
  },
  {
   "cell_type": "code",
   "execution_count": 10,
   "id": "a6dd6e75",
   "metadata": {},
   "outputs": [
    {
     "name": "stdout",
     "output_type": "stream",
     "text": [
      "Max length: 26534\n",
      "Min length: 48\n",
      "Mean length: 1606.3496993987976\n",
      "Standard deviation: 3043.292944961529\n"
     ]
    }
   ],
   "source": [
    "lengths = df[\"text_length\"].to_numpy()\n",
    "print(\"Max length:\", np.max(lengths))\n",
    "print(\"Min length:\", np.min(lengths))\n",
    "print(\"Mean length:\", np.mean(lengths))\n",
    "print(\"Standard deviation:\", np.std(lengths))\n"
   ]
  },
  {
   "cell_type": "code",
   "execution_count": 11,
   "id": "fc4267c8",
   "metadata": {},
   "outputs": [
    {
     "data": {
      "image/png": "[encoded data removed]",
      "text/plain": [
       "<Figure size 640x480 with 1 Axes>"
      ]
     },
     "metadata": {},
     "output_type": "display_data"
    }
   ],
   "source": [
    "df[\"text_length\"].hist(bins=50)\n",
    "plt.title(\"Distribution of Product Description Lengths\")\n",
    "plt.xlabel(\"Number of Characters\")\n",
    "plt.ylabel(\"Frequency\")\n",
    "plt.show()\n"
   ]
  }
 ],
 "metadata": {
  "kernelspec": {
   "display_name": "venv",
   "language": "python",
   "name": "python3"
  },
  "language_info": {
   "codemirror_mode": {
    "name": "ipython",
    "version": 3
   },
   "file_extension": ".py",
   "mimetype": "text/x-python",
   "name": "python",
   "nbconvert_exporter": "python",
   "pygments_lexer": "ipython3",
   "version": "3.12.6"
  }
 },
 "nbformat": 4,
 "nbformat_minor": 5
}
